{
 "cells": [
  {
   "cell_type": "code",
   "execution_count": 5,
   "id": "e6359547",
   "metadata": {},
   "outputs": [],
   "source": [
    "import requests as req\n",
    "import os, json, time, re\n",
    "from bs4 import BeautifulSoup as bs\n",
    "from urllib import parse\n",
    "from fake_useragent import UserAgent\n",
    "import ssl\n",
    "\n",
    "ssl._create_default_https_context = ssl._create_unverified_context\n",
    "# 隨機取得 User-Agent\n",
    "ua = UserAgent(use_external_data=True)\n",
    "\n",
    "# 放置古騰堡小說metadata的資訊\n",
    "listData = []\n",
    "\n",
    "# 古騰堡小說的網址\n",
    "url = 'https://www.gutenberg.org/browse/languages/zh'\n",
    "\n",
    "# 設定標頭\n",
    "headers = {\n",
    "    'user-agent': ua.random\n",
    "}\n",
    "\n",
    "# 沒有放置txt檔的資料夾，就建立起來\n",
    "folderPath = '古騰堡小說'\n",
    "if not os.path.exists(folderPath):\n",
    "    os.makedirs(folderPath)"
   ]
  },
  {
   "cell_type": "code",
   "execution_count": 6,
   "id": "8ce8e092",
   "metadata": {
    "scrolled": true
   },
   "outputs": [],
   "source": [
    "# 取得小說的主要連結\n",
    "def getMainLinks():\n",
    "    # 走訪首頁\n",
    "    res = req.get(url, headers = headers)\n",
    "    soup = bs(res.text, \"lxml\")\n",
    "    \n",
    "    # 取得主要連結，透過li元素來選取a的超連結\n",
    "    a_elms = soup.select('li.pgdbetext > a')\n",
    "    \n",
    "    # 整理主要連結資訊\n",
    "    for a in a_elms:\n",
    "        listData.append({\n",
    "            \"title\": a.get_text(),\n",
    "            \"link\": f'https://www.gutenberg.org{a[\"href\"]}.html.noimages',\n",
    "        })\n",
    "# 建立古騰堡小說 json 檔\n",
    "def saveJson():\n",
    "    with open(f\"{folderPath}/gutenberg.json\", \"w\", encoding=\"utf-8\") as file:\n",
    "        file.write( json.dumps(listData, ensure_ascii=False) )\n",
    "        \n",
    "# 將古騰堡小說所有章回的內容，各自寫到 txt 與 json 中\n",
    "def writeTxt():\n",
    "    # 稍候建立 train.json 前的程式變數\n",
    "    listContent = []\n",
    "\n",
    "    # 開啟 古騰堡小說 metadata 的 json 檔\n",
    "    with open(f\"{folderPath}/gutenberg.json\", \"r\", encoding=\"utf-8\") as file:\n",
    "        strJson = file.read()\n",
    "\n",
    "    # 走訪所有小說文字內容\n",
    "    listResult = json.loads(strJson)\n",
    "    for i in range(350):\n",
    "        res = req.get(listResult[i]['link'], headers = headers)\n",
    "        soup = bs(res.text, \"lxml\")\n",
    "        #s = soup.select('p')\n",
    "        strContent = []\n",
    "        match = re.search(r\"^[a-zA-Z]+\",listResult[i]['title'])\n",
    "        if match == None:\n",
    "            for s in soup.select('p'):\n",
    "                strContent.append(s.get_text())\n",
    "                strContent2 = \"\".join(strContent)\n",
    "                strContent2 = re.sub(r\"[a-zA-Z\\W\\d]+\" ,\"\",strContent2)\n",
    "                \n",
    "        # 決定 txt 的檔案名稱\n",
    "                fileName = f\"{listResult[i]['title']}.txt\"\n",
    "                fileName = re.sub(r\" |\\r|\\n|　|\\s\", '', fileName)\n",
    "            \n",
    "            \n",
    "        # 將小說內容存到 txt 中\n",
    "            with open(f\"{folderPath}/{fileName}\", \"w\", encoding=\"utf-8\") as file:\n",
    "                file.write(strContent2)        \n",
    "    "
   ]
  },
  {
   "cell_type": "code",
   "execution_count": 7,
   "id": "94db2880",
   "metadata": {},
   "outputs": [
    {
     "ename": "KeyboardInterrupt",
     "evalue": "",
     "output_type": "error",
     "traceback": [
      "\u001b[1;31m---------------------------------------------------------------------------\u001b[0m",
      "\u001b[1;31mKeyboardInterrupt\u001b[0m                         Traceback (most recent call last)",
      "\u001b[1;32m~\\AppData\\Local\\Temp\\ipykernel_11560\\3195797189.py\u001b[0m in \u001b[0;36m<module>\u001b[1;34m\u001b[0m\n\u001b[0;32m      3\u001b[0m     \u001b[0mgetMainLinks\u001b[0m\u001b[1;33m(\u001b[0m\u001b[1;33m)\u001b[0m\u001b[1;33m\u001b[0m\u001b[1;33m\u001b[0m\u001b[0m\n\u001b[0;32m      4\u001b[0m     \u001b[0msaveJson\u001b[0m\u001b[1;33m(\u001b[0m\u001b[1;33m)\u001b[0m\u001b[1;33m\u001b[0m\u001b[1;33m\u001b[0m\u001b[0m\n\u001b[1;32m----> 5\u001b[1;33m     \u001b[0mwriteTxt\u001b[0m\u001b[1;33m(\u001b[0m\u001b[1;33m)\u001b[0m\u001b[1;33m\u001b[0m\u001b[1;33m\u001b[0m\u001b[0m\n\u001b[0m\u001b[0;32m      6\u001b[0m     \u001b[0mprint\u001b[0m\u001b[1;33m(\u001b[0m\u001b[1;34mf\"執行總花費時間: {time.time() - time1}\"\u001b[0m\u001b[1;33m)\u001b[0m\u001b[1;33m\u001b[0m\u001b[1;33m\u001b[0m\u001b[0m\n",
      "\u001b[1;32m~\\AppData\\Local\\Temp\\ipykernel_11560\\300433854.py\u001b[0m in \u001b[0;36mwriteTxt\u001b[1;34m()\u001b[0m\n\u001b[0;32m     40\u001b[0m                 \u001b[0mstrContent\u001b[0m\u001b[1;33m.\u001b[0m\u001b[0mappend\u001b[0m\u001b[1;33m(\u001b[0m\u001b[0ms\u001b[0m\u001b[1;33m.\u001b[0m\u001b[0mget_text\u001b[0m\u001b[1;33m(\u001b[0m\u001b[1;33m)\u001b[0m\u001b[1;33m)\u001b[0m\u001b[1;33m\u001b[0m\u001b[1;33m\u001b[0m\u001b[0m\n\u001b[0;32m     41\u001b[0m                 \u001b[0mstrContent2\u001b[0m \u001b[1;33m=\u001b[0m \u001b[1;34m\"\"\u001b[0m\u001b[1;33m.\u001b[0m\u001b[0mjoin\u001b[0m\u001b[1;33m(\u001b[0m\u001b[0mstrContent\u001b[0m\u001b[1;33m)\u001b[0m\u001b[1;33m\u001b[0m\u001b[1;33m\u001b[0m\u001b[0m\n\u001b[1;32m---> 42\u001b[1;33m                 \u001b[0mstrContent2\u001b[0m \u001b[1;33m=\u001b[0m \u001b[0mre\u001b[0m\u001b[1;33m.\u001b[0m\u001b[0msub\u001b[0m\u001b[1;33m(\u001b[0m\u001b[1;34mr\"[a-zA-Z\\W\\d]+\"\u001b[0m \u001b[1;33m,\u001b[0m\u001b[1;34m\"\"\u001b[0m\u001b[1;33m,\u001b[0m\u001b[0mstrContent2\u001b[0m\u001b[1;33m)\u001b[0m\u001b[1;33m\u001b[0m\u001b[1;33m\u001b[0m\u001b[0m\n\u001b[0m\u001b[0;32m     43\u001b[0m \u001b[1;33m\u001b[0m\u001b[0m\n\u001b[0;32m     44\u001b[0m         \u001b[1;31m# 決定 txt 的檔案名稱\u001b[0m\u001b[1;33m\u001b[0m\u001b[1;33m\u001b[0m\u001b[0m\n",
      "\u001b[1;31mKeyboardInterrupt\u001b[0m: "
     ]
    }
   ],
   "source": [
    "# 主程式\n",
    "if __name__==\"__main__\":\n",
    "    getMainLinks()\n",
    "    saveJson()\n",
    "    writeTxt()"
   ]
  },
  {
   "cell_type": "code",
   "execution_count": null,
   "id": "32473733",
   "metadata": {},
   "outputs": [],
   "source": []
  }
 ],
 "metadata": {
  "kernelspec": {
   "display_name": "Python 3 (ipykernel)",
   "language": "python",
   "name": "python3"
  },
  "language_info": {
   "codemirror_mode": {
    "name": "ipython",
    "version": 3
   },
   "file_extension": ".py",
   "mimetype": "text/x-python",
   "name": "python",
   "nbconvert_exporter": "python",
   "pygments_lexer": "ipython3",
   "version": "3.9.13"
  }
 },
 "nbformat": 4,
 "nbformat_minor": 5
}
